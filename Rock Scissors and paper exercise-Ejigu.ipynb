{
 "cells": [
  {
   "cell_type": "code",
   "execution_count": 12,
   "id": "c13dae31",
   "metadata": {},
   "outputs": [
    {
     "name": "stdout",
     "output_type": "stream",
     "text": [
      "enter a choce(rock, paper, scissors:)rock\n",
      "\n",
      "You choserock,computer chosescissors\n"
     ]
    }
   ],
   "source": [
    "import random\n",
    "random.choice(\"actions\")\n",
    "user_action = input(\"enter a choce(rock, paper, scissors:)\")\n",
    "possible_actions = [\"rock\", \"paper\", \"scissors\"]\n",
    "computer_action = random.choice(possible_actions)\n",
    "print(f\"\\nYou chose{user_action},computer chose{computer_action}\")\n"
   ]
  },
  {
   "cell_type": "code",
   "execution_count": 10,
   "id": "611f04af",
   "metadata": {},
   "outputs": [
    {
     "ename": "SyntaxError",
     "evalue": "invalid syntax (Temp/ipykernel_25472/18402822.py, line 6)",
     "output_type": "error",
     "traceback": [
      "\u001b[1;36m  File \u001b[1;32m\"C:\\Users\\Bizu\\AppData\\Local\\Temp/ipykernel_25472/18402822.py\"\u001b[1;36m, line \u001b[1;32m6\u001b[0m\n\u001b[1;33m    else:\u001b[0m\n\u001b[1;37m    ^\u001b[0m\n\u001b[1;31mSyntaxError\u001b[0m\u001b[1;31m:\u001b[0m invalid syntax\n"
     ]
    }
   ],
   "source": [
    "if user_actions == computer_action:\n",
    "    print(\"It is a draw \")\n",
    "elif user_actions == \"rock\":\n",
    "    if computer_action == \"scissors\":\n",
    "        print(\"You Win! \")\n",
    "        else:\n",
    "            print(\"You lose. \")\n",
    "elif user_action == \"scissors\":\n",
    "    if computer_action == \"paper\":\n",
    "        print(\"You Win! \")\n",
    "        else:\n",
    "            print(\"You lose. \")\n",
    "elif user_action == \"paper\":\n",
    "    if computer_action == \"rock\" :\n",
    "        print(\"You Win! \")\n",
    "        else:\n",
    "            print(\"You Lose. \")\n",
    "            \n"
   ]
  },
  {
   "cell_type": "code",
   "execution_count": null,
   "id": "3777d3c0",
   "metadata": {},
   "outputs": [],
   "source": []
  },
  {
   "cell_type": "code",
   "execution_count": null,
   "id": "caeaac5f",
   "metadata": {},
   "outputs": [],
   "source": []
  }
 ],
 "metadata": {
  "kernelspec": {
   "display_name": "Python 3 (ipykernel)",
   "language": "python",
   "name": "python3"
  },
  "language_info": {
   "codemirror_mode": {
    "name": "ipython",
    "version": 3
   },
   "file_extension": ".py",
   "mimetype": "text/x-python",
   "name": "python",
   "nbconvert_exporter": "python",
   "pygments_lexer": "ipython3",
   "version": "3.9.7"
  }
 },
 "nbformat": 4,
 "nbformat_minor": 5
}
